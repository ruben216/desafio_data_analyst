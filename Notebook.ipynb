{
  "cells": [
    {
      "cell_type": "markdown",
      "metadata": {
        "id": "view-in-github",
        "colab_type": "text"
      },
      "source": [
        "<a href=\"https://colab.research.google.com/github/ruben216/desafio_data_analyst/blob/main/Notebook.ipynb\" target=\"_parent\"><img src=\"https://colab.research.google.com/assets/colab-badge.svg\" alt=\"Open In Colab\"/></a>"
      ]
    },
    {
      "cell_type": "markdown",
      "source": [
        "### **Introdução**\n",
        "*Olá!* \n",
        "\n",
        "*Participei de um processo seletivo para uma vaga de Analista de Dados Pleno, e me enviaram os desafios abaixo. Achei legal compartilhar para que outras pessoas possam se preparar ou estudar.*\n",
        "\n",
        "*Algumas notas:*\n",
        "\n",
        "1. *Os dados da empresa foram omitidos.*\n",
        "\n",
        "2. *Desenvolvi localmente, então alguns caminhos de documentos precisam ser adaptados para seu ambiente.*\n",
        "\n",
        "3. *Os arquivos são muito simples, por isso não vou disponibilizá-los. São eles:*\n",
        "\n",
        "  *Cadastro: Arquivo simples, com duas abas(UNIDADES e UNIDADES_DISTRIBUIDORAS). Ambas precisam ser importadas.* \n",
        "\n",
        "  *Unidades_Transacoes: Arquivos com muitas transações, que possuem 4 características que eu chamei de A,B,C e D.*"
      ],
      "metadata": {
        "id": "UI533MnTp3qu"
      }
    },
    {
      "cell_type": "markdown",
      "metadata": {
        "id": "zTjNIWa2ppoC"
      },
      "source": [
        "### Configurações"
      ]
    },
    {
      "cell_type": "markdown",
      "source": [
        ""
      ],
      "metadata": {
        "id": "y_A7ppZcpub0"
      }
    },
    {
      "cell_type": "code",
      "execution_count": null,
      "metadata": {
        "id": "gG9pMK48ppoF"
      },
      "outputs": [],
      "source": [
        "# Módulos auxiliares\n",
        "import sqlite3 as sql\n",
        "import pandas as pd\n",
        "import os as oo\n",
        "oo.remove(\"./arquivos/empresa.db\") if oo.path.exists(\"./arquivos/empresa.db\") else None\n",
        "\n",
        "# Configura o pandas para exibir 3 casas decimais\n",
        "pd.options.display.float_format = \"{:,.3f}\".format"
      ]
    },
    {
      "cell_type": "code",
      "execution_count": null,
      "metadata": {
        "id": "MZf4YkOsppoI"
      },
      "outputs": [],
      "source": [
        "# Métodos auxiliares para limpar e criar novamente a base\n",
        "\n",
        "def create_tables():\n",
        "    con = sql.connect(\"./arquivos/empresa.db\")\n",
        "    cur = con.cursor()\n",
        "    cur.execute('CREATE TABLE UNIDADES_TRANSACOES ( AGENTE TEXT, PONTO_GRUPO TEXT, DATA TEXT, HORA INTEGER, QTDE_TRANSACAO_A NUMERIC, QTDE_TRANSACAO_B NUMERIC, QTDE_TRANSACAO_C NUMERIC, QTDE_TRANSACAO_D NUMERIC, QUALIDADE TEXT, ORIGEM TEXT )')\n",
        "    cur.execute('CREATE TABLE IF NOT EXISTS UNIDADES (COD TEXT, Unidades TEXT, Ponto_SCDE TEXT)')\n",
        "    cur.execute('CREATE TABLE IF NOT EXISTS UNIDADES_DISTRIBUIDORAS (codigo TEXT, grupo_economico TEXT, celula_gestor TEXT, fornecedor TEXT, distribuidora TEXT)')\n",
        "    con.commit()\n",
        "    cur.close()\n",
        "    con.close()\n",
        "    \n",
        "\n",
        "def clean_tables():\n",
        "    con = sql.connect(\"./arquivos/empresa.db\")\n",
        "    cur = con.cursor()\n",
        "    cur.execute(\"DELETE FROM UNIDADES_TRANSACOES\")\n",
        "    con.commit()\n",
        "    cur.close()\n",
        "    con.close()\n",
        "\n",
        "def drop_tables():\n",
        "    con = sql.connect(\"./arquivos/empresa.db\")\n",
        "    cur = con.cursor()\n",
        "    cur.execute(\"drop table UNIDADES_TRANSACOES\")\n",
        "    cur.execute(\"drop table UNIDADES\")\n",
        "    cur.execute(\"drop table UNIDADES_DISTRIBUIDORAS\")\n",
        "    cur.execute(\"drop table UNIDADES_CONSUMO\")\n",
        "    dados = cur.fetchall()\n",
        "    con.commit()\n",
        "    cur.close()\n",
        "    con.close()    \n",
        "    \n",
        "    "
      ]
    },
    {
      "cell_type": "code",
      "execution_count": null,
      "metadata": {
        "id": "KkEdr7d5ppoJ"
      },
      "outputs": [],
      "source": [
        "#drop_tables()\n",
        "#create_tables()"
      ]
    },
    {
      "cell_type": "markdown",
      "metadata": {
        "id": "G-DcNNkkppoL"
      },
      "source": [
        "## A \n",
        "\n",
        "* Crie um banco no SQLite utilizando o python, e salve nesse banco os dados do SCDE e os dados do cadastro. \\\n",
        "Dica: para ler o SCDE no python utilize o encoding = 'unicode_escape'.\n",
        "* No SQLite, realize join das tabelas de cadastro numa única tabela nova."
      ]
    },
    {
      "cell_type": "code",
      "execution_count": null,
      "metadata": {
        "id": "sivdHlWEppoM"
      },
      "outputs": [],
      "source": [
        "# Solução escolhida: importar o csv em um dataframe, para em seguida inserir no SQL.\n",
        "# Vantagens: Importação é mais simples, possibilidade de criar uma biblioteca com nomes das colunas e data wrangling simples.\n",
        "\n",
        "df = pd.read_csv(\"./arquivos/scde_unidades.csv\", encoding = 'unicode-escape', sep = \";\", header=3, keep_default_na=False )\n",
        "unid_cad_2 = pd.read_excel('./arquivos/cadastro.xlsx','UNIDADES_DISTRIBUIDORA')\n",
        "unid_cad_2"
      ]
    },
    {
      "cell_type": "code",
      "execution_count": 1,
      "metadata": {
        "id": "FlRKr9eBppoO"
      },
      "outputs": [],
      "source": [
        "# Dict com o DE/PARA dos nomes das colunas\n",
        "config_colunas = {'Agente': 'agente',\n",
        "                 'Ponto / Grupo' : 'ponto_grupo',\n",
        "                 'Data' : 'data',\n",
        "                 'Hora': 'hora',\n",
        "                 'Qtde Transação A' : 'QTDE_TRANSACAO_A',\n",
        "                 'Qtde Transação B' : 'QTDE_TRANSACAO_B',\n",
        "                 'Qtde Transação C' : 'QTDE_TRANSACAO_C',\n",
        "                  'Qtde Transação D' : 'QTDE_TRANSACAO_D',\n",
        "                  'Qualidade' : 'qualidade',\n",
        "                  'Origem' : 'origem'\n",
        "                 }"
      ]
    },
    {
      "cell_type": "code",
      "execution_count": null,
      "metadata": {
        "id": "QsarHHVuppoP"
      },
      "outputs": [],
      "source": [
        "# Renomear as colunas usando config_colunas\n",
        "df.rename(columns = config_colunas, inplace=True)\n",
        "df"
      ]
    },
    {
      "cell_type": "code",
      "execution_count": null,
      "metadata": {
        "id": "Oa2_soBYppoQ"
      },
      "outputs": [],
      "source": [
        "# Carregando os dados no DB\n",
        "con = sql.connect(\"./arquivos/empresa.db\")\n",
        "df.to_sql('UNIDADES_TRANSACOES',con,if_exists='replace', index=False)\n",
        "con.commit()\n",
        "con.close()"
      ]
    },
    {
      "cell_type": "code",
      "execution_count": null,
      "metadata": {
        "id": "Yo8C2YXcppoR"
      },
      "outputs": [],
      "source": [
        "# Dataframe com dados dos cadastros das Unidades\n",
        "df_2 = pd.read_excel('./arquivos/cadastro.xlsx')\n",
        "df_2"
      ]
    },
    {
      "cell_type": "code",
      "execution_count": null,
      "metadata": {
        "id": "2vCCYCNqppoS"
      },
      "outputs": [],
      "source": [
        "# Inserindo os dados das unidades\n",
        "con = sql.connect(\"./arquivos/empresa.db\")\n",
        "df_2.to_sql('UNIDADES',con,if_exists='replace', index=False)\n",
        "con.commit()\n",
        "con.close()\n"
      ]
    },
    {
      "cell_type": "code",
      "execution_count": null,
      "metadata": {
        "id": "ZB7AL-jhppoT"
      },
      "outputs": [],
      "source": [
        "# Inserindo os dados das distribuidoras\n",
        "\n",
        "con = sql.connect(\"./arquivos/empresa.db\")\n",
        "unid_cad_2.to_sql('UNIDADES_DISTRIBUIDORAS',con,if_exists='replace', index=False)\n",
        "con.commit()\n",
        "con.close()\n"
      ]
    },
    {
      "cell_type": "code",
      "execution_count": null,
      "metadata": {
        "id": "CeysXZQoppoU"
      },
      "outputs": [],
      "source": [
        "# Renomeia as colunas da tabela\n",
        "\n",
        "config_colunas_distr = {'COD': 'codigo',\n",
        "                 'Grupo Econômico' : 'grupo_economico',\n",
        "                 'Célula gestor' : 'celula_gestor',\n",
        "                 'Fornecedor': 'fornecedor',\n",
        "                 'Distribuidora' : 'distribuidora'\n",
        "                 }\n",
        "\n",
        "unid_cad_2.rename(columns = config_colunas_distr, inplace=True)\n",
        "\n",
        "unid_cad_2"
      ]
    },
    {
      "cell_type": "markdown",
      "metadata": {
        "id": "ahR_sHLhppoV"
      },
      "source": [
        "SQL que gera tabela única\n",
        "\n",
        "*CREATE TABLE UNIDADES_CONSUMO AS \\\n",
        "    SELECT * FROM \\\n",
        "    UNIDADES_TRANSACOES SUC JOIN\n",
        "    Unidades UN ON\n",
        "    SUC.ponto_grupo = UN.Ponto_SCDE*"
      ]
    },
    {
      "cell_type": "markdown",
      "metadata": {
        "id": "mGOg0-jCppoV"
      },
      "source": [
        "## B\n",
        "\n",
        "    Utilizando o python, calcule para cada mês de cada unidade:\n",
        "    1) total de transações, por tipo e por unidade\n",
        "    2) média de transações por dia da semana\n",
        "    3) quantidade de transações zeradas\n",
        "    4) quantidade de horas faltantes\n",
        "    5) data com maior e menor valores\n",
        "\n"
      ]
    },
    {
      "cell_type": "code",
      "execution_count": null,
      "metadata": {
        "id": "ZdblAElHppoW"
      },
      "outputs": [],
      "source": [
        "# 1) total de consumo em MWh \\\n",
        "\n",
        "# Com panda, iremos ler a tabela que uniu as informações\n",
        "\n",
        "con = sql.connect(\"./arquivos/empresa.db\")\n",
        "transacoes_unid = pd.read_sql_query('SELECT * FROM UNIDADES_CONSUMO',con,parse_dates=['data'],coerce_float = True)\n",
        "con.commit()\n",
        "con.close()\n",
        "\n",
        "\n",
        "\n",
        "transacoes_unid\n",
        "\n",
        "#Atenção! executar os comandos abaixo para  substituir os espaços vazios #\n",
        "\n",
        "#UPDATE UNIDADES_CONSUMO set QTDE_TRANSACAO_A = 0,  QTDE_TRANSACAO_B = 0 , QTDE_TRANSACAO_C = 0 , QTDE_TRANSACAO_D = 0\n",
        "#WHERE QTDE_TRANSACAO_A = '' and QTDE_TRANSACAO_B = '' and QTDE_TRANSACAO_C = '' and QTDE_TRANSACAO_D = ''"
      ]
    },
    {
      "cell_type": "code",
      "execution_count": null,
      "metadata": {
        "id": "J6CZ0fzdppoW"
      },
      "outputs": [],
      "source": [
        "# Ajustes QTDE_TRANSACAO_A\n",
        "transacoes_unid['QTDE_TRANSACAO_A'] = transacoes_unid['QTDE_TRANSACAO_A'].str.replace('.','')\n",
        "transacoes_unid['QTDE_TRANSACAO_A'] = transacoes_unid['QTDE_TRANSACAO_A'].str.replace(',','.')\n",
        "transacoes_unid['QTDE_TRANSACAO_A'] = transacoes_unid['QTDE_TRANSACAO_A'].astype(float)\n",
        "\n",
        "# Ajustes QTDE_TRANSACAO_B\n",
        "transacoes_unid['QTDE_TRANSACAO_B'] = transacoes_unid['QTDE_TRANSACAO_B'].str.replace('.','')\n",
        "transacoes_unid['QTDE_TRANSACAO_B'] = transacoes_unid['QTDE_TRANSACAO_B'].str.replace(',','.')\n",
        "transacoes_unid['QTDE_TRANSACAO_B'] = transacoes_unid['QTDE_TRANSACAO_B'].astype(float)\n",
        "transacoes_unid\n",
        "\n",
        "# Ajustes QTDE_TRANSACAO_C\n",
        "transacoes_unid['QTDE_TRANSACAO_C'] = transacoes_unid['QTDE_TRANSACAO_C'].str.replace('.','')\n",
        "transacoes_unid['QTDE_TRANSACAO_C'] = transacoes_unid['QTDE_TRANSACAO_C'].str.replace(',','.')\n",
        "transacoes_unid['QTDE_TRANSACAO_C'] = transacoes_unid['QTDE_TRANSACAO_C'].astype(float)\n",
        "transacoes_unid\n",
        "\n",
        "# Ajustes QTDE_TRANSACAO_D\n",
        "transacoes_unid['QTDE_TRANSACAO_D'] = transacoes_unid['QTDE_TRANSACAO_D'].str.replace('.','')\n",
        "transacoes_unid['QTDE_TRANSACAO_D'] = transacoes_unid['QTDE_TRANSACAO_D'].str.replace(',','.')\n",
        "transacoes_unid['QTDE_TRANSACAO_D'] = transacoes_unid['QTDE_TRANSACAO_D'].astype(float)"
      ]
    },
    {
      "cell_type": "code",
      "execution_count": null,
      "metadata": {
        "id": "qPVxMFkHppoX"
      },
      "outputs": [],
      "source": [
        "transacoes_unid"
      ]
    },
    {
      "cell_type": "code",
      "execution_count": null,
      "metadata": {
        "id": "7-03GpsLppoY"
      },
      "outputs": [],
      "source": [
        "#Consumo_por_unid\n",
        "\n",
        "#Converter de grandeza K para M\n",
        "transacoes_unid['QTDE_TRANSACAO_A'] = transacoes_unid['QTDE_TRANSACAO_A'].apply(lambda x:x/1000)\n",
        "transacoes_unid['QTDE_TRANSACAO_B'] = transacoes_unid['QTDE_TRANSACAO_B'].apply(lambda x:x/1000)\n",
        "transacoes_unid['QTDE_TRANSACAO_C'] = transacoes_unid['QTDE_TRANSACAO_C'].apply(lambda x:x/1000)\n",
        "transacoes_unid['QTDE_TRANSACAO_D'] = transacoes_unid['QTDE_TRANSACAO_D'].apply(lambda x:x/1000)"
      ]
    },
    {
      "cell_type": "code",
      "execution_count": null,
      "metadata": {
        "id": "FZZxo_PsppoY"
      },
      "outputs": [],
      "source": [
        "#Renomear as colunas para não confundir o usuário\n",
        "config_unid_cons = {\n",
        "    'QTDE_TRANSACAO_A' : 'QTDE_TRANSACAO_A',\n",
        "    'QTDE_TRANSACAO_B' : 'QTDE_TRANSACAO_B',\n",
        "    'QTDE_TRANSACAO_C' : 'QTDE_TRANSACAO_C',\n",
        "    'QTDE_TRANSACAO_D' : 'QTDE_TRANSACAO_D',\n",
        "}\n",
        "\n",
        "transacoes_unid.rename(columns=config_unid_cons,\n",
        "          inplace=True)"
      ]
    },
    {
      "cell_type": "code",
      "execution_count": null,
      "metadata": {
        "id": "F4GW-T_2ppoY"
      },
      "outputs": [],
      "source": [
        "# 1) total de consumo em MWh \n",
        "transacoes_unid.groupby('Unidades').sum()\n"
      ]
    },
    {
      "cell_type": "code",
      "execution_count": null,
      "metadata": {
        "id": "xsarxK6hppoZ"
      },
      "outputs": [],
      "source": [
        "# 2) média de consumo em MWh por dia da semana. (Se for por grupo de dias, basta alterar o freq)\n",
        "# Update: Deverá ser retornado o dia da semana.\n",
        "\n",
        "#To-Do: Corrigir a tradução do dia, pode ser um dict com os nomes em inglês\n",
        "\n",
        "from datetime import datetime\n",
        "\n",
        "\n",
        "transacoes_unid_p_dia = transacoes_unid.groupby(['Unidades',pd.Grouper(key='data',freq='D')]).agg({'QTDE_TRANSACAO_A':'sum','QTDE_TRANSACAO_B': 'sum','QTDE_TRANSACAO_C': 'sum','QTDE_TRANSACAO_D': 'sum'}).reset_index()\n",
        "\n",
        "\n",
        "transacoes_unid_p_dia['Dia_Semana'] = transacoes_unid_p_dia['data'].dt.day_name()\n",
        "\n",
        "transacoes_unid_p_dia\n"
      ]
    },
    {
      "cell_type": "code",
      "execution_count": null,
      "metadata": {
        "id": "jHzS3TzzppoZ",
        "outputId": "fa5437dc-7d74-4ebb-a289-18cb2bd0cf11"
      },
      "outputs": [
        {
          "data": {
            "text/plain": [
              "Unidades\n",
              "Unidade10     24\n",
              "Unidade2      28\n",
              "Unidade3      24\n",
              "Unidade4      21\n",
              "Unidade5       7\n",
              "Unidade6      29\n",
              "Unidade7     143\n",
              "Unidade9      24\n",
              "Name: agente, dtype: int64"
            ]
          },
          "execution_count": 21,
          "metadata": {},
          "output_type": "execute_result"
        }
      ],
      "source": [
        "# 3) quantidade de horas zeradas \\\n",
        "# Solução mais rápida. Buscar uma melhor, que não precise criar um DF secundário.\n",
        "# To-do: Incluir dados da(s) unidade(s) que possuem count == 0\n",
        "\n",
        "cont_hora_zerada = transacoes_unid.query('QTDE_TRANSACAO_A == \"0\"').groupby('Unidades').count()\n",
        "cont_hora_zerada['agente']"
      ]
    },
    {
      "cell_type": "code",
      "execution_count": null,
      "metadata": {
        "id": "gIIXU2sNppoZ",
        "outputId": "4e46a298-50dd-45a8-ce18-dfd8eb244bbf"
      },
      "outputs": [
        {
          "data": {
            "text/plain": [
              "Unidades\n",
              "Unidade10     24\n",
              "Unidade2      24\n",
              "Unidade3      24\n",
              "Unidade6      24\n",
              "Unidade7     143\n",
              "Unidade9      24\n",
              "Name: agente, dtype: int64"
            ]
          },
          "execution_count": 22,
          "metadata": {},
          "output_type": "execute_result"
        }
      ],
      "source": [
        "# 4) quantidade de horas faltantes \\\n",
        "\n",
        "cont_dados_falt = transacoes_unid.query('origem == \"DADOS FALTANTES\"').groupby('Unidades').count()\n",
        "cont_dados_falt['agente']\n"
      ]
    },
    {
      "cell_type": "code",
      "execution_count": null,
      "metadata": {
        "id": "l9vKwhezppoa"
      },
      "outputs": [],
      "source": [
        "# 5) data com maior e menor consumo \n",
        "# Duas soluções, uma criando um subset e outra utilizando query\n",
        "# Maior consumo\n",
        "transacoes_unid[transacoes_unid.ativa_c_mwh ==  transacoes_unid.ativa_c_mwh.max()]\n",
        "\n",
        "# Menor consumo\n",
        "# To-do : realizar tratamento para excluir dados zerados\n",
        "#transacoes_unid[transacoes_unid.ativa_c_mwh ==  transacoes_unid.ativa_c_mwh.min()]\n",
        "transacoes_unid.query('QTDE_TRANSACAO_A == QTDE_TRANSACAO_A.min()')"
      ]
    },
    {
      "cell_type": "markdown",
      "metadata": {
        "id": "t2Os2-VWppob"
      },
      "source": [
        "## C\n",
        "* No SQlite, crie uma view para o mês de janeiro com os seguintes dados para cada unidade: \\\n",
        "1) total de consumo em MWh \\\n",
        "2) quantidade de horas zeradas \\\n",
        "3) quantidade de horas faltantes \\\n",
        "4) MWm"
      ]
    },
    {
      "cell_type": "markdown",
      "metadata": {
        "id": "U4Axfs0Oppob"
      },
      "source": [
        "CREATE VIEW RESUMO_DADOS AS\n",
        "SELECT A.UNIDADE,\n",
        "       A.VALOR AS TOTAL_CONSUMIDO,\n",
        "       CASE\n",
        "           WHEN B.VALOR IS NULL THEN '0'\n",
        "           ELSE B.VALOR\n",
        "       END AS TOTAL_ZERADO,\n",
        "       CASE\n",
        "           WHEN C.VALOR IS NULL THEN '0'\n",
        "           ELSE C.VALOR\n",
        "       END AS 'DADOS FALTANTES'\n",
        "FROM\n",
        "  (SELECT Unidades AS UNIDADE,\n",
        "          SUM(QTDE_TRANSACAO_A)/1000 AS VALOR\n",
        "   FROM UNIDADES_CONSUMO\n",
        "   GROUP BY UNIDADES) AS A\n",
        "LEFT JOIN\n",
        "  (SELECT Unidades AS UNIDADE,\n",
        "          COUNT(*) AS VALOR\n",
        "   FROM UNIDADES_CONSUMO\n",
        "   WHERE QTDE_TRANSACAO_A = 0\n",
        "   GROUP BY UNIDADES) AS B ON A.UNIDADE = B.UNIDADE\n",
        "LEFT JOIN\n",
        "  (SELECT Unidades AS UNIDADE,\n",
        "          count(*) AS 'VALOR'\n",
        "   FROM UNIDADES_CONSUMO\n",
        "   WHERE ORIGEM = 'DADOS FALTANTES'\n",
        "   GROUP BY unidades) AS C ON A.UNIDADE = C.UNIDADE"
      ]
    },
    {
      "cell_type": "markdown",
      "metadata": {
        "id": "pVKB7ihVppoc"
      },
      "source": [
        "## D\n",
        "\n",
        "* No SQlite, utilize a view de unidades para apresentar os dados abaixo para cada distribuidora: \\\n",
        "1) total de transações do tipo A \\\n",
        "2) total de transações do tipo B \\\n",
        "3) quantidade de transações zeradas \\\n",
        "4) quantidade de transações com dados faltantes \\\n",
        "\n"
      ]
    },
    {
      "cell_type": "markdown",
      "metadata": {
        "id": "cPfBWaVeppoc"
      },
      "source": [
        "1) total de unidades na distribuidora\n",
        "\n",
        "SELECT distribuidora,count(*) AS total\n",
        "FROM UNIDADES_DISTRIBUIDORAS \n",
        "GROUP BY distribuidora\n",
        "\n",
        "2) total de consumo em MWh\n",
        "\n",
        "3) quantidade de horas zeradas\n",
        "\n",
        "4) quantidade de horas faltantes\n",
        "\n",
        "5) MWm\n",
        "\n",
        "select UD.distribuidora,* FROM RESUMO_DADOS RD\n",
        "JOIN Unidades UN \n",
        "\tON RD.UNIDADE = UN.Unidades\n",
        "JOIN UNIDADES_DISTRIBUIDORAS UD\n",
        "\tON UN.COD = UD.codigo"
      ]
    },
    {
      "cell_type": "markdown",
      "metadata": {
        "id": "iTFTQzBvppoc"
      },
      "source": [
        "## E\n",
        "* No Jupyter Notebook, crie os seguintes gráficos: \\\n",
        "1) gráfico de linha com o consumo de uma unidade para cada mês (3 gráficos) \\\n",
        "2) gráfico de barra com a quantidade de unidades por fornecedor \\\n",
        "3) gráfico de barra com a quantidade de unidades por célula \\\n"
      ]
    },
    {
      "cell_type": "code",
      "execution_count": null,
      "metadata": {
        "id": "sZ4u_nYkppod"
      },
      "outputs": [],
      "source": [
        "import matplotlib as mpl\n",
        "import matplotlib.pyplot as plt\n",
        "%matplotlib inline"
      ]
    },
    {
      "cell_type": "code",
      "execution_count": null,
      "metadata": {
        "id": "vUtwtghdppod"
      },
      "outputs": [],
      "source": [
        "#1) gráfico de linha com o consumo de uma unidade para cada mês (3 gráficos) \n",
        "# Realiza agrupamento para Unidade1 por mês\n",
        "# Dúvida: 3 gráficos seriam referentes a 3 unidades?\n",
        "#         Consumo seria referente ao campo ativa_c_mwh?\n",
        "\n",
        "transacoes_unid_p_mes_1 = transacoes_unid.query('Unidades == \"Unidade1\"').groupby(['Unidades',pd.Grouper(key='data',freq='M')]).agg({'ativa_c_mwh':'sum'}).reset_index()\n",
        "transacoes_unid_p_mes_2 = transacoes_unid.query('Unidades == \"Unidade2\"').groupby(['Unidades',pd.Grouper(key='data',freq='M')]).agg({'ativa_c_mwh':'sum'}).reset_index()\n",
        "transacoes_unid_p_mes_3 = transacoes_unid.query('Unidades == \"Unidade3\"').groupby(['Unidades',pd.Grouper(key='data',freq='M')]).agg({'ativa_c_mwh':'sum'}).reset_index()\n",
        "\n",
        "\n",
        "\n",
        "transacoes_unid_p_mes_1.plot(x='data',y='ativa_c_mwh',kind='line')\n",
        "transacoes_unid_p_mes_2.plot(x='data',y='ativa_c_mwh',kind='line')\n",
        "transacoes_unid_p_mes_3.plot(x='data',y='ativa_c_mwh',kind='line')"
      ]
    },
    {
      "cell_type": "code",
      "execution_count": null,
      "metadata": {
        "id": "QDxO3myappoe"
      },
      "outputs": [],
      "source": [
        "#2) gráfico de barra com a quantidade de unidades por fornecedor \n",
        "\n",
        "#unid_cad_2.groupby('fornecedor').count()\n",
        "plt_for_unid = unid_cad_2.groupby('fornecedor').agg({'fornecedor':'count'})\n",
        "\n",
        "\n",
        "plt_for_unid.plot(kind='bar')\n"
      ]
    },
    {
      "cell_type": "code",
      "execution_count": null,
      "metadata": {
        "id": "zGMGAuT-ppoe"
      },
      "outputs": [],
      "source": [
        "# 3) gráfico de barra com a quantidade de unidades por célula \\\n",
        "#To-Do: Remover espaço nas colunas(ltrim/rtrim)\n",
        "\n",
        "plt_unid_cel = unid_cad_2.groupby('celula_gestor').agg({'codigo':'count'})\n",
        "\n",
        "plt_unid_cel.plot(kind='bar')"
      ]
    },
    {
      "cell_type": "markdown",
      "metadata": {
        "id": "76ahmwuTppof"
      },
      "source": [
        "## F\n",
        "* No Power BI, crie gráficos: \\\n",
        "1) Com informações sobre o consumo das unidades \\\n",
        "\n",
        "\n",
        "\n",
        "2) Com agrupamentos utilizando os atributos dos dados cadastrais \\\n",
        "\n",
        "\n",
        "\n",
        "3) Crie alguma outra visualização com quaisquer dados do seu interesse.\n",
        "\n",
        "\n",
        "\n"
      ]
    },
    {
      "cell_type": "code",
      "execution_count": null,
      "metadata": {
        "id": "fK8YbnU1ppof"
      },
      "outputs": [],
      "source": [
        ""
      ]
    }
  ],
  "metadata": {
    "kernelspec": {
      "display_name": "Python 3",
      "language": "python",
      "name": "python3"
    },
    "language_info": {
      "codemirror_mode": {
        "name": "ipython",
        "version": 3
      },
      "file_extension": ".py",
      "mimetype": "text/x-python",
      "name": "python",
      "nbconvert_exporter": "python",
      "pygments_lexer": "ipython3",
      "version": "3.8.5"
    },
    "colab": {
      "name": "Notebook.ipynb",
      "provenance": [],
      "include_colab_link": true
    }
  },
  "nbformat": 4,
  "nbformat_minor": 0
}